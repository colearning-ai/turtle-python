{
  "nbformat": 4,
  "nbformat_minor": 0,
  "metadata": {
    "colab": {
      "name": "basic_design_1.ipynb",
      "provenance": [],
      "authorship_tag": "ABX9TyORA+pshM9eJHqFKr/tkowv",
      "include_colab_link": true
    },
    "kernelspec": {
      "name": "python3",
      "display_name": "Python 3"
    }
  },
  "cells": [
    {
      "cell_type": "markdown",
      "metadata": {
        "id": "view-in-github",
        "colab_type": "text"
      },
      "source": [
        "<a href=\"https://colab.research.google.com/github/poojan-dalal/turtle-python/blob/test1/turtles-colab/basic_design_1/basic_design_1.ipynb\" target=\"_parent\"><img src=\"https://colab.research.google.com/assets/colab-badge.svg\" alt=\"Open In Colab\"/></a>"
      ]
    },
    {
      "cell_type": "code",
      "metadata": {
        "id": "FLWnJKolX1Gb",
        "outputId": "277e7132-711a-4ee2-b506-0c52675575df",
        "colab": {
          "base_uri": "https://localhost:8080/",
          "height": 35
        }
      },
      "source": [
        "!pip3 install ColabTurtle"
      ],
      "execution_count": 1,
      "outputs": [
        {
          "output_type": "stream",
          "text": [
            "Requirement already satisfied: ColabTurtle in /usr/local/lib/python3.6/dist-packages (2.0.0)\n"
          ],
          "name": "stdout"
        }
      ]
    },
    {
      "cell_type": "code",
      "metadata": {
        "id": "k04ZGdK6X3LE"
      },
      "source": [
        "from ColabTurtle.Turtle import *\n",
        "import ColabTurtle"
      ],
      "execution_count": 2,
      "outputs": []
    },
    {
      "cell_type": "code",
      "metadata": {
        "id": "NiYGtNE7Xm6H",
        "outputId": "2a4a872b-cd53-41cc-f7fc-893b5c971330",
        "colab": {
          "base_uri": "https://localhost:8080/",
          "height": 521
        }
      },
      "source": [
        "painter = ColabTurtle.Turtle\n",
        "\n",
        "painter.initializeTurtle(10)\n",
        "\n",
        "painter.color(\"blue\")\n",
        "painter.width(1)\n",
        "for i in range(50):\n",
        "    painter.forward(50)\n",
        "    painter.left(123) # Let's go counterclockwise this time \n",
        "    \n",
        "painter.color(\"red\")\n",
        "for i in range(50):\n",
        "    painter.forward(100)\n",
        "    painter.left(123)\n",
        "    \n"
      ],
      "execution_count": 3,
      "outputs": [
        {
          "output_type": "display_data",
          "data": {
            "text/html": [
              "\n",
              "      <svg width=\"800\" height=\"500\">\n",
              "        <rect width=\"100%\" height=\"100%\" fill=\"black\"/>\n",
              "        <line x1=\"400\" y1=\"250\" x2=\"400.0\" y2=\"200.0\" stroke-linecap=\"round\" style=\"stroke:blue;stroke-width:1\"/><line x1=\"400.0\" y1=\"200.0\" x2=\"358.0664716027288\" y2=\"227.23195175075136\" stroke-linecap=\"round\" style=\"stroke:blue;stroke-width:1\"/><line x1=\"358.0664716027288\" y1=\"227.23195175075136\" x2=\"403.7437444848589\" y2=\"247.56878390454136\" stroke-linecap=\"round\" style=\"stroke:blue;stroke-width:1\"/><line x1=\"403.7437444848589\" y1=\"247.56878390454136\" x2=\"395.9220212328473\" y2=\"198.18436687478447\" stroke-linecap=\"round\" style=\"stroke:blue;stroke-width:1\"/><line x1=\"395.9220212328473\" y1=\"198.18436687478447\" x2=\"358.7647799589776\" y2=\"231.64089719272738\" stroke-linecap=\"round\" style=\"stroke:blue;stroke-width:1\"/><line x1=\"358.7647799589776\" y1=\"231.64089719272738\" x2=\"407.061071273431\" y2=\"244.58184944785341\" stroke-linecap=\"round\" style=\"stroke:blue;stroke-width:1\"/><line x1=\"407.061071273431\" y1=\"244.58184944785341\" x2=\"391.6102215546837\" y2=\"197.02902363309573\" stroke-linecap=\"round\" style=\"stroke:blue;stroke-width:1\"/><line x1=\"391.6102215546837\" y1=\"197.02902363309573\" x2=\"360.14420200219183\" y2=\"235.88632170594428\" stroke-linecap=\"round\" style=\"stroke:blue;stroke-width:1\"/><line x1=\"360.14420200219183\" y1=\"235.88632170594428\" x2=\"409.8702967706055\" y2=\"241.11274486932695\" stroke-linecap=\"round\" style=\"stroke:blue;stroke-width:1\"/><line x1=\"409.8702967706055\" y1=\"241.11274486932695\" x2=\"387.17077178362814\" y2=\"196.56241865990856\" stroke-linecap=\"round\" style=\"stroke:blue;stroke-width:1\"/><line x1=\"387.17077178362814\" y1=\"196.56241865990856\" x2=\"362.17077178362814\" y2=\"239.86368884913048\" stroke-linecap=\"round\" style=\"stroke:blue;stroke-width:1\"/><line x1=\"362.17077178362814\" y1=\"239.86368884913048\" x2=\"412.10224852135684\" y2=\"237.24689103698327\" stroke-linecap=\"round\" style=\"stroke:blue;stroke-width:1\"/><line x1=\"412.10224852135684\" y1=\"237.24689103698327\" x2=\"382.7129859067332\" y2=\"196.7960413182359\" stroke-linecap=\"round\" style=\"stroke:blue;stroke-width:1\"/><line x1=\"382.7129859067332\" y1=\"196.7960413182359\" x2=\"364.7945884294682\" y2=\"243.47506264309598\" stroke-linecap=\"round\" style=\"stroke:blue;stroke-width:1\"/><line x1=\"364.7945884294682\" y1=\"243.47506264309598\" x2=\"413.70196846615846\" y2=\"233.079478102208\" stroke-linecap=\"round\" style=\"stroke:blue;stroke-width:1\"/><line x1=\"413.70196846615846\" y1=\"233.079478102208\" x2=\"378.3466294068311\" y2=\"197.7241390428806\" stroke-linecap=\"round\" style=\"stroke:blue;stroke-width:1\"/><line x1=\"378.3466294068311\" y1=\"197.7241390428806\" x2=\"367.9510448659431\" y2=\"246.6315190795709\" stroke-linecap=\"round\" style=\"stroke:blue;stroke-width:1\"/><line x1=\"367.9510448659431\" y1=\"246.6315190795709\" x2=\"414.6300661908032\" y2=\"228.71312160230585\" stroke-linecap=\"round\" style=\"stroke:blue;stroke-width:1\"/><line x1=\"414.6300661908032\" y1=\"228.71312160230585\" x2=\"374.1792164720558\" y2=\"199.3238589876822\" stroke-linecap=\"round\" style=\"stroke:blue;stroke-width:1\"/><line x1=\"374.1792164720558\" y1=\"199.3238589876822\" x2=\"371.56241865990864\" y2=\"249.2553357254109\" stroke-linecap=\"round\" style=\"stroke:blue;stroke-width:1\"/><line x1=\"371.56241865990864\" y1=\"249.2553357254109\" x2=\"414.86368884913054\" y2=\"224.25533572541087\" stroke-linecap=\"round\" style=\"stroke:blue;stroke-width:1\"/><line x1=\"414.86368884913054\" y1=\"224.25533572541087\" x2=\"370.3133626397121\" y2=\"201.55581073843354\" stroke-linecap=\"round\" style=\"stroke:blue;stroke-width:1\"/><line x1=\"370.3133626397121\" y1=\"201.55581073843354\" x2=\"375.5397858030948\" y2=\"251.2819055068472\" stroke-linecap=\"round\" style=\"stroke:blue;stroke-width:1\"/><line x1=\"375.5397858030948\" y1=\"251.2819055068472\" x2=\"414.39708387594334\" y2=\"219.8158859543553\" stroke-linecap=\"round\" style=\"stroke:blue;stroke-width:1\"/><line x1=\"414.39708387594334\" y1=\"219.8158859543553\" x2=\"366.84425806118566\" y2=\"204.36503623560793\" stroke-linecap=\"round\" style=\"stroke:blue;stroke-width:1\"/><line x1=\"366.84425806118566\" y1=\"204.36503623560793\" x2=\"379.7852103163117\" y2=\"252.66132755006134\" stroke-linecap=\"round\" style=\"stroke:blue;stroke-width:1\"/><line x1=\"379.7852103163117\" y1=\"252.66132755006134\" x2=\"413.2417406342546\" y2=\"215.50408627619163\" stroke-linecap=\"round\" style=\"stroke:blue;stroke-width:1\"/><line x1=\"413.2417406342546\" y1=\"215.50408627619163\" x2=\"363.8573236044977\" y2=\"207.6823630241801\" stroke-linecap=\"round\" style=\"stroke:blue;stroke-width:1\"/><line x1=\"363.8573236044977\" y1=\"207.6823630241801\" x2=\"384.1941557582877\" y2=\"253.35963590631013\" stroke-linecap=\"round\" style=\"stroke:blue;stroke-width:1\"/><line x1=\"384.1941557582877\" y1=\"253.35963590631013\" x2=\"411.426107509039\" y2=\"211.42610750903893\" stroke-linecap=\"round\" style=\"stroke:blue;stroke-width:1\"/><line x1=\"411.426107509039\" y1=\"211.42610750903893\" x2=\"361.426107509039\" y2=\"211.42610750903893\" stroke-linecap=\"round\" style=\"stroke:blue;stroke-width:1\"/><line x1=\"361.426107509039\" y1=\"211.42610750903893\" x2=\"388.6580592597904\" y2=\"253.35963590631013\" stroke-linecap=\"round\" style=\"stroke:blue;stroke-width:1\"/><line x1=\"388.6580592597904\" y1=\"253.35963590631013\" x2=\"408.9948914135804\" y2=\"207.68236302418006\" stroke-linecap=\"round\" style=\"stroke:blue;stroke-width:1\"/><line x1=\"408.9948914135804\" y1=\"207.68236302418006\" x2=\"359.6104743838235\" y2=\"215.5040862761916\" stroke-linecap=\"round\" style=\"stroke:blue;stroke-width:1\"/><line x1=\"359.6104743838235\" y1=\"215.5040862761916\" x2=\"393.0670047017664\" y2=\"252.66132755006132\" stroke-linecap=\"round\" style=\"stroke:blue;stroke-width:1\"/><line x1=\"393.0670047017664\" y1=\"252.66132755006132\" x2=\"406.00795695689243\" y2=\"204.3650362356079\" stroke-linecap=\"round\" style=\"stroke:blue;stroke-width:1\"/><line x1=\"406.00795695689243\" y1=\"204.3650362356079\" x2=\"358.45513114213475\" y2=\"219.81588595435528\" stroke-linecap=\"round\" style=\"stroke:blue;stroke-width:1\"/><line x1=\"358.45513114213475\" y1=\"219.81588595435528\" x2=\"397.3124292149833\" y2=\"251.28190550684715\" stroke-linecap=\"round\" style=\"stroke:blue;stroke-width:1\"/><line x1=\"397.3124292149833\" y1=\"251.28190550684715\" x2=\"402.53885237836596\" y2=\"201.55581073843348\" stroke-linecap=\"round\" style=\"stroke:blue;stroke-width:1\"/><line x1=\"402.53885237836596\" y1=\"201.55581073843348\" x2=\"357.9885261689476\" y2=\"224.25533572541082\" stroke-linecap=\"round\" style=\"stroke:blue;stroke-width:1\"/><line x1=\"357.9885261689476\" y1=\"224.25533572541082\" x2=\"401.28979635816955\" y2=\"249.25533572541082\" stroke-linecap=\"round\" style=\"stroke:blue;stroke-width:1\"/><line x1=\"401.28979635816955\" y1=\"249.25533572541082\" x2=\"398.6729985460223\" y2=\"199.32385898768212\" stroke-linecap=\"round\" style=\"stroke:blue;stroke-width:1\"/><line x1=\"398.6729985460223\" y1=\"199.32385898768212\" x2=\"358.22214882727496\" y2=\"228.71312160230576\" stroke-linecap=\"round\" style=\"stroke:blue;stroke-width:1\"/><line x1=\"358.22214882727496\" y1=\"228.71312160230576\" x2=\"404.901170152135\" y2=\"246.63151907957078\" stroke-linecap=\"round\" style=\"stroke:blue;stroke-width:1\"/><line x1=\"404.901170152135\" y1=\"246.63151907957078\" x2=\"394.50558561124706\" y2=\"197.7241390428805\" stroke-linecap=\"round\" style=\"stroke:blue;stroke-width:1\"/><line x1=\"394.50558561124706\" y1=\"197.7241390428805\" x2=\"359.1502465519197\" y2=\"233.07947810220787\" stroke-linecap=\"round\" style=\"stroke:blue;stroke-width:1\"/><line x1=\"359.1502465519197\" y1=\"233.07947810220787\" x2=\"408.05762658861\" y2=\"243.47506264309584\" stroke-linecap=\"round\" style=\"stroke:blue;stroke-width:1\"/><line x1=\"408.05762658861\" y1=\"243.47506264309584\" x2=\"390.13922911134495\" y2=\"196.79604131823575\" stroke-linecap=\"round\" style=\"stroke:blue;stroke-width:1\"/><line x1=\"390.13922911134495\" y1=\"196.79604131823575\" x2=\"360.7499664967213\" y2=\"237.24689103698313\" stroke-linecap=\"round\" style=\"stroke:blue;stroke-width:1\"/><line x1=\"360.7499664967213\" y1=\"237.24689103698313\" x2=\"410.68144323445\" y2=\"239.8636888491303\" stroke-linecap=\"round\" style=\"stroke:blue;stroke-width:1\"/><line x1=\"410.68144323445\" y1=\"239.8636888491303\" x2=\"360.68144323444994\" y2=\"153.26114847068646\" stroke-linecap=\"round\" style=\"stroke:red;stroke-width:1\"/><line x1=\"360.68144323444994\" y1=\"153.26114847068646\" x2=\"315.28239326049527\" y2=\"242.36180088952324\" stroke-linecap=\"round\" style=\"stroke:red;stroke-width:1\"/><line x1=\"315.28239326049527\" y1=\"242.36180088952324\" x2=\"414.7345827973226\" y2=\"231.90895456275788\" stroke-linecap=\"round\" style=\"stroke:red;stroke-width:1\"/><line x1=\"414.7345827973226\" y1=\"231.90895456275788\" x2=\"351.8025436923388\" y2=\"154.1943584170608\" stroke-linecap=\"round\" style=\"stroke:red;stroke-width:1\"/><line x1=\"351.8025436923388\" y1=\"154.1943584170608\" x2=\"320.90084425484406\" y2=\"249.30001004657618\" stroke-linecap=\"round\" style=\"stroke:red;stroke-width:1\"/><line x1=\"320.90084425484406\" y1=\"249.30001004657618\" x2=\"417.4934268837509\" y2=\"223.4181055363241\" stroke-linecap=\"round\" style=\"stroke:red;stroke-width:1\"/><line x1=\"417.4934268837509\" y1=\"223.4181055363241\" x2=\"343.17894433601145\" y2=\"156.5050449004383\" stroke-linecap=\"round\" style=\"stroke:red;stroke-width:1\"/><line x1=\"343.17894433601145\" y1=\"156.5050449004383\" x2=\"327.5354978319884\" y2=\"255.27387895995207\" stroke-linecap=\"round\" style=\"stroke:red;stroke-width:1\"/><line x1=\"327.5354978319884\" y1=\"255.27387895995207\" x2=\"418.89004359624846\" y2=\"214.60021465237207\" stroke-linecap=\"round\" style=\"stroke:red;stroke-width:1\"/><line x1=\"418.89004359624846\" y1=\"214.60021465237207\" x2=\"335.02298680170605\" y2=\"160.13631115086937\" stroke-linecap=\"round\" style=\"stroke:red;stroke-width:1\"/><line x1=\"335.02298680170605\" y1=\"160.13631115086937\" x2=\"335.02298680170605\" y2=\"260.13631115086935\" stroke-linecap=\"round\" style=\"stroke:red;stroke-width:1\"/><line x1=\"335.02298680170605\" y1=\"260.13631115086935\" x2=\"418.89004359624846\" y2=\"205.67240764936665\" stroke-linecap=\"round\" style=\"stroke:red;stroke-width:1\"/><line x1=\"418.89004359624846\" y1=\"205.67240764936665\" x2=\"327.5354978319884\" y2=\"164.99874334178662\" stroke-linecap=\"round\" style=\"stroke:red;stroke-width:1\"/><line x1=\"327.5354978319884\" y1=\"164.99874334178662\" x2=\"343.17894433601145\" y2=\"263.7675774013004\" stroke-linecap=\"round\" style=\"stroke:red;stroke-width:1\"/><line x1=\"343.17894433601145\" y1=\"263.7675774013004\" x2=\"417.4934268837509\" y2=\"196.8545167654146\" stroke-linecap=\"round\" style=\"stroke:red;stroke-width:1\"/><line x1=\"417.4934268837509\" y1=\"196.8545167654146\" x2=\"320.90084425484406\" y2=\"170.97261225516252\" stroke-linecap=\"round\" style=\"stroke:red;stroke-width:1\"/><line x1=\"320.90084425484406\" y1=\"170.97261225516252\" x2=\"351.8025436923388\" y2=\"266.0782638846779\" stroke-linecap=\"round\" style=\"stroke:red;stroke-width:1\"/><line x1=\"351.8025436923388\" y1=\"266.0782638846779\" x2=\"414.73458279732256\" y2=\"188.3636677389808\" stroke-linecap=\"round\" style=\"stroke:red;stroke-width:1\"/><line x1=\"414.73458279732256\" y1=\"188.3636677389808\" x2=\"315.2823932604952\" y2=\"177.91082141221545\" stroke-linecap=\"round\" style=\"stroke:red;stroke-width:1\"/><line x1=\"315.2823932604952\" y1=\"177.91082141221545\" x2=\"360.6814432344499\" y2=\"267.01147383105223\" stroke-linecap=\"round\" style=\"stroke:red;stroke-width:1\"/><line x1=\"360.6814432344499\" y1=\"267.01147383105223\" x2=\"410.6814432344499\" y2=\"180.40893345260838\" stroke-linecap=\"round\" style=\"stroke:red;stroke-width:1\"/><line x1=\"410.6814432344499\" y1=\"180.40893345260838\" x2=\"310.8184897589925\" y2=\"185.64252907690275\" stroke-linecap=\"round\" style=\"stroke:red;stroke-width:1\"/><line x1=\"310.8184897589925\" y1=\"185.64252907690275\" x2=\"369.5970149882398\" y2=\"266.5442285143975\" stroke-linecap=\"round\" style=\"stroke:red;stroke-width:1\"/><line x1=\"369.5970149882398\" y1=\"266.5442285143975\" x2=\"405.4338099427698\" y2=\"173.18618586467733\" stroke-linecap=\"round\" style=\"stroke:red;stroke-width:1\"/><line x1=\"405.4338099427698\" y1=\"173.18618586467733\" x2=\"307.61904986938924\" y2=\"193.97735494645326\" stroke-linecap=\"round\" style=\"stroke:red;stroke-width:1\"/><line x1=\"307.61904986938924\" y1=\"193.97735494645326\" x2=\"378.329727988044\" y2=\"264.688033065108\" stroke-linecap=\"round\" style=\"stroke:red;stroke-width:1\"/><line x1=\"378.329727988044\" y1=\"264.688033065108\" x2=\"399.12089706981993\" y2=\"166.87327299172745\" stroke-linecap=\"round\" style=\"stroke:red;stroke-width:1\"/><line x1=\"399.12089706981993\" y1=\"166.87327299172745\" x2=\"305.76285442009976\" y2=\"202.71006794625748\" stroke-linecap=\"round\" style=\"stroke:red;stroke-width:1\"/><line x1=\"305.76285442009976\" y1=\"202.71006794625748\" x2=\"386.6645538575945\" y2=\"261.4885931755048\" stroke-linecap=\"round\" style=\"stroke:red;stroke-width:1\"/><line x1=\"386.6645538575945\" y1=\"261.4885931755048\" x2=\"391.8981494818889\" y2=\"161.62563970004737\" stroke-linecap=\"round\" style=\"stroke:red;stroke-width:1\"/><line x1=\"391.8981494818889\" y1=\"161.62563970004737\" x2=\"305.29560910344503\" y2=\"211.62563970004737\" stroke-linecap=\"round\" style=\"stroke:red;stroke-width:1\"/><line x1=\"305.29560910344503\" y1=\"211.62563970004737\" x2=\"394.3962615222818\" y2=\"257.02468967400205\" stroke-linecap=\"round\" style=\"stroke:red;stroke-width:1\"/><line x1=\"394.3962615222818\" y1=\"257.02468967400205\" x2=\"383.9434151955165\" y2=\"157.5725001371747\" stroke-linecap=\"round\" style=\"stroke:red;stroke-width:1\"/><line x1=\"383.9434151955165\" y1=\"157.5725001371747\" x2=\"306.2288190498194\" y2=\"220.50453924215844\" stroke-linecap=\"round\" style=\"stroke:red;stroke-width:1\"/><line x1=\"306.2288190498194\" y1=\"220.50453924215844\" x2=\"401.33447067933474\" y2=\"251.40623867965317\" stroke-linecap=\"round\" style=\"stroke:red;stroke-width:1\"/><line x1=\"401.33447067933474\" y1=\"251.40623867965317\" x2=\"375.4525661690827\" y2=\"154.81365605074635\" stroke-linecap=\"round\" style=\"stroke:red;stroke-width:1\"/><line x1=\"375.4525661690827\" y1=\"154.81365605074635\" x2=\"308.53950553319686\" y2=\"229.12813859848578\" stroke-linecap=\"round\" style=\"stroke:red;stroke-width:1\"/><line x1=\"308.53950553319686\" y1=\"229.12813859848578\" x2=\"407.30833959271064\" y2=\"244.77158510250885\" stroke-linecap=\"round\" style=\"stroke:red;stroke-width:1\"/><line x1=\"407.30833959271064\" y1=\"244.77158510250885\" x2=\"366.63467528513064\" y2=\"153.41703933824874\" stroke-linecap=\"round\" style=\"stroke:red;stroke-width:1\"/><line x1=\"366.63467528513064\" y1=\"153.41703933824874\" x2=\"312.1707717836279\" y2=\"237.28409613279115\" stroke-linecap=\"round\" style=\"stroke:red;stroke-width:1\"/><line x1=\"312.1707717836279\" y1=\"237.28409613279115\" x2=\"412.1707717836279\" y2=\"237.28409613279115\" stroke-linecap=\"round\" style=\"stroke:red;stroke-width:1\"/><line x1=\"412.1707717836279\" y1=\"237.28409613279115\" x2=\"357.70686828212524\" y2=\"153.41703933824874\" stroke-linecap=\"round\" style=\"stroke:red;stroke-width:1\"/><line x1=\"357.70686828212524\" y1=\"153.41703933824874\" x2=\"317.03320397454524\" y2=\"244.77158510250882\" stroke-linecap=\"round\" style=\"stroke:red;stroke-width:1\"/><line x1=\"317.03320397454524\" y1=\"244.77158510250882\" x2=\"415.802038034059\" y2=\"229.12813859848572\" stroke-linecap=\"round\" style=\"stroke:red;stroke-width:1\"/><line x1=\"415.802038034059\" y1=\"229.12813859848572\" x2=\"348.8889773981732\" y2=\"154.8136560507463\" stroke-linecap=\"round\" style=\"stroke:red;stroke-width:1\"/><line x1=\"348.8889773981732\" y1=\"154.8136560507463\" x2=\"323.00707288792114\" y2=\"251.40623867965311\" stroke-linecap=\"round\" style=\"stroke:red;stroke-width:1\"/><line x1=\"323.00707288792114\" y1=\"251.40623867965311\" x2=\"418.1127245174365\" y2=\"220.50453924215836\" stroke-linecap=\"round\" style=\"stroke:red;stroke-width:1\"/><line x1=\"418.1127245174365\" y1=\"220.50453924215836\" x2=\"340.3981283717394\" y2=\"157.5725001371746\" stroke-linecap=\"round\" style=\"stroke:red;stroke-width:1\"/><line x1=\"340.3981283717394\" y1=\"157.5725001371746\" x2=\"329.945282044974\" y2=\"257.02468967400193\" stroke-linecap=\"round\" style=\"stroke:red;stroke-width:1\"/><line x1=\"329.945282044974\" y1=\"257.02468967400193\" x2=\"419.0459344638108\" y2=\"211.62563970004723\" stroke-linecap=\"round\" style=\"stroke:red;stroke-width:1\"/>\n",
              "        \n",
              "      <g visibility=visible transform=\"rotate(120,419.0459344638108,211.62563970004723) translate(419.0459344638108, 211.62563970004723)\">\n",
              "        <circle stroke=\"red\" stroke-width=\"3\" fill=\"transparent\" r=\"12\" cx=\"0\" cy=\"0\"/>\n",
              "        <polygon points=\"0,19 3,16 -3,16\" style=\"fill:red;stroke:red;stroke-width:2\"/>\n",
              "      </g>\n",
              "    \n",
              "      </svg>\n",
              "    "
            ],
            "text/plain": [
              "<IPython.core.display.HTML object>"
            ]
          },
          "metadata": {
            "tags": []
          }
        }
      ]
    },
    {
      "cell_type": "code",
      "metadata": {
        "id": "_6UvXTyJYNMt"
      },
      "source": [
        ""
      ],
      "execution_count": null,
      "outputs": []
    }
  ]
}